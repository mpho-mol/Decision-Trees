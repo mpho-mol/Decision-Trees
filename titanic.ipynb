{
 "cells": [
  {
   "cell_type": "code",
   "execution_count": null,
   "id": "ad254394",
   "metadata": {},
   "outputs": [],
   "source": [
    "# Import relvant libraries\n",
    "import numpy as np\n",
    "import pandas as pd\n",
    "from sklearn.model_selection import train_test_split\n",
    "from sklearn.tree import DecisionTreeClassifier, plot_tree\n",
    "from sklearn.metrics import accuracy_score\n",
    "import random\n",
    "random.seed(42)"
   ]
  },
  {
   "cell_type": "code",
   "execution_count": null,
   "id": "f291b298",
   "metadata": {},
   "outputs": [],
   "source": [
    "complete_data = pd.read_csv('titanic.csv')\n",
    "\n",
    "raw_features = complete_data.drop(columns=['Survived'])\n",
    "outcomes = complete_data['Survived']"
   ]
  },
  {
   "cell_type": "code",
   "execution_count": null,
   "id": "5f708c7e",
   "metadata": {},
   "outputs": [],
   "source": [
    "raw_features.head()"
   ]
  },
  {
   "cell_type": "code",
   "execution_count": null,
   "id": "76e2b782",
   "metadata": {},
   "outputs": [],
   "source": [
    "outcomes.head()"
   ]
  },
  {
   "cell_type": "code",
   "execution_count": null,
   "id": "a3ad2d94",
   "metadata": {},
   "outputs": [],
   "source": [
    "raw_features.info()"
   ]
  },
  {
   "cell_type": "code",
   "execution_count": null,
   "id": "c5fdbf9d",
   "metadata": {},
   "outputs": [],
   "source": [
    "features_names_excl = raw_features.drop(columns=['Name'])"
   ]
  },
  {
   "cell_type": "code",
   "execution_count": null,
   "id": "820c5c8e",
   "metadata": {},
   "outputs": [],
   "source": [
    "#One-hot encode the features\n",
    "features = pd.get_dummies(features_names_excl)\n",
    "\n",
    "# Fill rows with missing values with zeros\n",
    "features = features.fillna(0.0)"
   ]
  },
  {
   "cell_type": "code",
   "execution_count": null,
   "id": "f9a6aad5",
   "metadata": {},
   "outputs": [],
   "source": [
    "features.info()"
   ]
  },
  {
   "cell_type": "code",
   "execution_count": null,
   "id": "a0f63aac",
   "metadata": {},
   "outputs": [],
   "source": [
    "features.head()"
   ]
  },
  {
   "cell_type": "code",
   "execution_count": null,
   "id": "d808211b",
   "metadata": {},
   "outputs": [],
   "source": [
    "#Split the Data into Training and Testing Sets\n",
    "X_train_dev, X_test, y_train_dev, y_test = train_test_split(features, outcomes, test_size=0.2, random_state=42)\n",
    "X_train, X_dev, y_train, y_dev = train_test_split(X_train_dev, y_train_dev, test_size=0.25, random_state=42)"
   ]
  },
  {
   "cell_type": "code",
   "execution_count": null,
   "id": "d06a5f46",
   "metadata": {},
   "outputs": [],
   "source": [
    "print(X_train.shape, X_test.shape, y_train.shape, y_test.shape)"
   ]
  },
  {
   "cell_type": "code",
   "execution_count": null,
   "id": "ab8834ec",
   "metadata": {},
   "outputs": [],
   "source": [
    "# Train a Decision Tree model without imposing restrictions on the depth\n",
    "default_model = DecisionTreeClassifier().fit(X_train, y_train)\n",
    "default_model"
   ]
  },
  {
   "cell_type": "code",
   "execution_count": null,
   "id": "2362f4e1",
   "metadata": {},
   "outputs": [],
   "source": [
    "# Compute the model's accuracy on the training and development set\n",
    "def test_accuracy(model, X, y):\n",
    "    y_pred = model.predict(X)\n",
    "    accuracy = round(accuracy_score(y, y_pred) * 100., 1)\n",
    "    return accuracy\n",
    "\n",
    "training_accuracy = test_accuracy(default_model, X_train, y_train)\n",
    "development_accuracy = test_accuracy(default_model, X_dev, y_dev)\n",
    "print('Training accuracy:  {0:2.1f}'.format(training_accuracy)+'%')\n",
    "print('Development accuracy:  {0:2.1f}'.format(development_accuracy)+'%')"
   ]
  },
  {
   "cell_type": "code",
   "execution_count": null,
   "id": "c0cf7893",
   "metadata": {},
   "outputs": [],
   "source": [
    "# Plot the Decision Tree\n",
    "plt.figure(figsize=(12, 8))\n",
    "plot_tree(model, filled=True, rounded=True, class_names=['Not Survived', 'Survived'])\n",
    "plt.title(\"Decision Tree for Titanic Survival Prediction\")\n",
    "plt.show()\n"
   ]
  },
  {
   "cell_type": "code",
   "execution_count": null,
   "id": "16f471a7",
   "metadata": {},
   "outputs": [],
   "source": [
    "# Report the accuracy of the final model on the test data\n",
    "final_model = DecisionTreeClassifier(max_depth=6, min_samples_leaf=2, min_samples_split=2).fit(X_train, y_train)\n",
    "test_accuracy = test_accuracy(final_model, X_test, y_test)\n",
    "print('Test accuracy:  {0:2.1f}'.format(test_accuracy)+'%')"
   ]
  },
  {
   "cell_type": "code",
   "execution_count": null,
   "id": "b3a628a5",
   "metadata": {},
   "outputs": [],
   "source": [
    "def test_accuracy(model, X, y):\n",
    "    y_pred = model.predict(X)\n",
    "    accuracy = round(accuracy_score(y, y_pred) * 100., 1)\n",
    "    return accuracy,  # Return the accuracy as a tuple with a comma at the end\n",
    "\n",
    "# Try building the model with different values of the max_depth [2-10]\n",
    "results = pd.DataFrame(columns=['max_depth',\n",
    "                                'min_samples_leaf',\n",
    "                                'min_samples_split',\n",
    "                                'n_nodes',\n",
    "                                'training_accuracy',\n",
    "                                'development_accuracy'])\n",
    "\n",
    "for max_depth_i in range(2, 11):\n",
    "    for min_samples_leaf_i in range(1, 15):\n",
    "        for min_samples_split_i in range(2, 15):\n",
    "            model = DecisionTreeClassifier(max_depth=max_depth_i,\n",
    "                                           min_samples_leaf=min_samples_leaf_i,\n",
    "                                           min_samples_split=min_samples_split_i).fit(X_train, y_train)\n",
    "\n",
    "            # Calculate training and development accuracies separately\n",
    "            training_accuracy = test_accuracy(model, X_train, y_train)\n",
    "            development_accuracy = test_accuracy(model, X_dev, y_dev)\n",
    "            n_nodes = model.tree_.node_count\n",
    "\n",
    "            # Create a new row with all the information\n",
    "            new_row = pd.Series({'max_depth': max_depth_i,\n",
    "                                 'min_samples_leaf': min_samples_leaf_i,\n",
    "                                 'min_samples_split': min_samples_split_i,\n",
    "                                 'n_nodes': n_nodes,\n",
    "                                 'training_accuracy': training_accuracy[0],  # Access the accuracy from the tuple\n",
    "                                 'development_accuracy': development_accuracy[0]},  # Access the accuracy from the tuple\n",
    "                                name=len(results))  # Set the name to the length of the results DataFrame\n",
    "\n",
    "            # Append the new row to the results DataFrame\n",
    "            results = results.append(new_row)\n",
    "            \n",
    "            # Plot the decision tree for each max_depth\n",
    "            plt.figure(figsize=(10, 6))\n",
    "            plot_tree(model, filled=True, rounded=True, class_names=['Not Survived', 'Survived'])\n",
    "            plt.title(f\"Decision Tree for Titanic Survival Prediction (Max Depth {max_depth_i})\")\n",
    "            plt.show()\n",
    "\n",
    "\n",
    "# Sorting the results based on development accuracy\n",
    "results = results.sort_values(by='development_accuracy', ascending=False).reset_index(drop=True)\n",
    "\n",
    "results.head()"
   ]
  },
  {
   "cell_type": "code",
   "execution_count": null,
   "id": "cec8d5d8",
   "metadata": {
    "scrolled": true
   },
   "outputs": [],
   "source": [
    "# Initialize empty lists to store training and development accuracies\n",
    "training_accuracies = []\n",
    "development_accuracies = []\n",
    "\n",
    "# Loop through different values of max_depth\n",
    "for max_depth_i in range(2, 11):\n",
    "    # Train the model\n",
    "    model = DecisionTreeClassifier(max_depth=max_depth_i, random_state=42)\n",
    "    model.fit(X_train, y_train)\n",
    "    \n",
    "    # Calculate training and development accuracies\n",
    "    training_accuracy = accuracy_score(y_train, model.predict(X_train))\n",
    "    development_accuracy = accuracy_score(y_dev, model.predict(X_dev))\n",
    "    \n",
    "    # Append the accuracies to the respective lists\n",
    "    training_accuracies.append(training_accuracy)\n",
    "    development_accuracies.append(development_accuracy)\n",
    "\n",
    "# Plot the training and development accuracies for each max_depth\n",
    "fig, ax = plt.subplots(figsize=(8, 6))\n",
    "ax.plot(range(2, 11), training_accuracies, label='Training Accuracy', color='blue')\n",
    "ax.plot(range(2, 11), development_accuracies, label='Development Accuracy', color='orange')\n",
    "ax.set_xlabel('Max Depth')\n",
    "ax.set_ylabel('Accuracy')\n",
    "ax.set_title('Training and Development Accuracies')\n",
    "ax.legend()\n",
    "plt.show()\n"
   ]
  },
  {
   "cell_type": "markdown",
   "id": "a9a4840b",
   "metadata": {},
   "source": [
    "The shape plotted is a line graph which shows how the training and development accuracies change as the max_depth of the decision tree varies. It provides a visual representation of the model's performance with different levels of complexity or max_depth for the decision tree. The graph allows us to observe trends and patterns in the accuracy scores and helps in identifying the optimal max_depth value that balances model complexity and generalization performance,  reveal whether the model is overfitting or underfitting. In this case, the development accuracy is low or decreases with increasing max_depth while training accuracy is high, indicating overfitting. So the model is memorizing the training data and is not able to generalize to new data."
   ]
  }
 ],
 "metadata": {
  "kernelspec": {
   "display_name": "Python 3 (ipykernel)",
   "language": "python",
   "name": "python3"
  },
  "language_info": {
   "codemirror_mode": {
    "name": "ipython",
    "version": 3
   },
   "file_extension": ".py",
   "mimetype": "text/x-python",
   "name": "python",
   "nbconvert_exporter": "python",
   "pygments_lexer": "ipython3",
   "version": "3.10.9"
  }
 },
 "nbformat": 4,
 "nbformat_minor": 5
}
